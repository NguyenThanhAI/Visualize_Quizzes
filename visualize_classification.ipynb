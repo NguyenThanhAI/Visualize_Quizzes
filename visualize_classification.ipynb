{
 "cells": [
  {
   "cell_type": "code",
   "execution_count": 1,
   "metadata": {},
   "outputs": [],
   "source": [
    "import os\n",
    "import json\n",
    "import numpy as np\n",
    "import pandas as pd\n",
    "import plotnine"
   ]
  },
  {
   "cell_type": "code",
   "execution_count": 2,
   "metadata": {},
   "outputs": [],
   "source": [
    "df = pd.read_csv(\"./classification_356.csv\")"
   ]
  },
  {
   "cell_type": "code",
   "execution_count": 3,
   "metadata": {},
   "outputs": [],
   "source": [
    "df[\"result\"] = df[\"result\"].apply(lambda x: json.loads(x)[0][\"value\"][\"choices\"][0])"
   ]
  },
  {
   "cell_type": "code",
   "execution_count": 4,
   "metadata": {},
   "outputs": [
    {
     "data": {
      "text/html": [
       "<div>\n",
       "<style scoped>\n",
       "    .dataframe tbody tr th:only-of-type {\n",
       "        vertical-align: middle;\n",
       "    }\n",
       "\n",
       "    .dataframe tbody tr th {\n",
       "        vertical-align: top;\n",
       "    }\n",
       "\n",
       "    .dataframe thead th {\n",
       "        text-align: right;\n",
       "    }\n",
       "</style>\n",
       "<table border=\"1\" class=\"dataframe\">\n",
       "  <thead>\n",
       "    <tr style=\"text-align: right;\">\n",
       "      <th></th>\n",
       "      <th>Unnamed: 0</th>\n",
       "      <th>id</th>\n",
       "      <th>result</th>\n",
       "      <th>completed_by_id</th>\n",
       "      <th>lead_time</th>\n",
       "      <th>project_id</th>\n",
       "      <th>task_id</th>\n",
       "    </tr>\n",
       "  </thead>\n",
       "  <tbody>\n",
       "    <tr>\n",
       "      <th>0</th>\n",
       "      <td>0</td>\n",
       "      <td>117925</td>\n",
       "      <td>cat</td>\n",
       "      <td>61</td>\n",
       "      <td>5.781</td>\n",
       "      <td>356</td>\n",
       "      <td>498543</td>\n",
       "    </tr>\n",
       "    <tr>\n",
       "      <th>1</th>\n",
       "      <td>1</td>\n",
       "      <td>117926</td>\n",
       "      <td>cat</td>\n",
       "      <td>61</td>\n",
       "      <td>9.139</td>\n",
       "      <td>356</td>\n",
       "      <td>498545</td>\n",
       "    </tr>\n",
       "    <tr>\n",
       "      <th>2</th>\n",
       "      <td>2</td>\n",
       "      <td>117941</td>\n",
       "      <td>cat</td>\n",
       "      <td>61</td>\n",
       "      <td>4.903</td>\n",
       "      <td>356</td>\n",
       "      <td>498567</td>\n",
       "    </tr>\n",
       "    <tr>\n",
       "      <th>3</th>\n",
       "      <td>3</td>\n",
       "      <td>117928</td>\n",
       "      <td>dog</td>\n",
       "      <td>61</td>\n",
       "      <td>5.897</td>\n",
       "      <td>356</td>\n",
       "      <td>498547</td>\n",
       "    </tr>\n",
       "    <tr>\n",
       "      <th>4</th>\n",
       "      <td>4</td>\n",
       "      <td>117942</td>\n",
       "      <td>dog</td>\n",
       "      <td>61</td>\n",
       "      <td>5.661</td>\n",
       "      <td>356</td>\n",
       "      <td>498569</td>\n",
       "    </tr>\n",
       "    <tr>\n",
       "      <th>...</th>\n",
       "      <td>...</td>\n",
       "      <td>...</td>\n",
       "      <td>...</td>\n",
       "      <td>...</td>\n",
       "      <td>...</td>\n",
       "      <td>...</td>\n",
       "      <td>...</td>\n",
       "    </tr>\n",
       "    <tr>\n",
       "      <th>5409</th>\n",
       "      <td>5409</td>\n",
       "      <td>130693</td>\n",
       "      <td>dog</td>\n",
       "      <td>236</td>\n",
       "      <td>4.336</td>\n",
       "      <td>356</td>\n",
       "      <td>498431</td>\n",
       "    </tr>\n",
       "    <tr>\n",
       "      <th>5410</th>\n",
       "      <td>5410</td>\n",
       "      <td>130694</td>\n",
       "      <td>dog</td>\n",
       "      <td>236</td>\n",
       "      <td>7.591</td>\n",
       "      <td>356</td>\n",
       "      <td>498433</td>\n",
       "    </tr>\n",
       "    <tr>\n",
       "      <th>5411</th>\n",
       "      <td>5411</td>\n",
       "      <td>130695</td>\n",
       "      <td>cat</td>\n",
       "      <td>236</td>\n",
       "      <td>5.931</td>\n",
       "      <td>356</td>\n",
       "      <td>498435</td>\n",
       "    </tr>\n",
       "    <tr>\n",
       "      <th>5412</th>\n",
       "      <td>5412</td>\n",
       "      <td>130697</td>\n",
       "      <td>cat</td>\n",
       "      <td>236</td>\n",
       "      <td>4.827</td>\n",
       "      <td>356</td>\n",
       "      <td>498437</td>\n",
       "    </tr>\n",
       "    <tr>\n",
       "      <th>5413</th>\n",
       "      <td>5413</td>\n",
       "      <td>130698</td>\n",
       "      <td>cat</td>\n",
       "      <td>236</td>\n",
       "      <td>4.851</td>\n",
       "      <td>356</td>\n",
       "      <td>498439</td>\n",
       "    </tr>\n",
       "  </tbody>\n",
       "</table>\n",
       "<p>5414 rows × 7 columns</p>\n",
       "</div>"
      ],
      "text/plain": [
       "      Unnamed: 0      id result  completed_by_id  lead_time  project_id  \\\n",
       "0              0  117925    cat               61      5.781         356   \n",
       "1              1  117926    cat               61      9.139         356   \n",
       "2              2  117941    cat               61      4.903         356   \n",
       "3              3  117928    dog               61      5.897         356   \n",
       "4              4  117942    dog               61      5.661         356   \n",
       "...          ...     ...    ...              ...        ...         ...   \n",
       "5409        5409  130693    dog              236      4.336         356   \n",
       "5410        5410  130694    dog              236      7.591         356   \n",
       "5411        5411  130695    cat              236      5.931         356   \n",
       "5412        5412  130697    cat              236      4.827         356   \n",
       "5413        5413  130698    cat              236      4.851         356   \n",
       "\n",
       "      task_id  \n",
       "0      498543  \n",
       "1      498545  \n",
       "2      498567  \n",
       "3      498547  \n",
       "4      498569  \n",
       "...       ...  \n",
       "5409   498431  \n",
       "5410   498433  \n",
       "5411   498435  \n",
       "5412   498437  \n",
       "5413   498439  \n",
       "\n",
       "[5414 rows x 7 columns]"
      ]
     },
     "execution_count": 4,
     "metadata": {},
     "output_type": "execute_result"
    }
   ],
   "source": [
    "df"
   ]
  },
  {
   "cell_type": "code",
   "execution_count": 5,
   "metadata": {},
   "outputs": [
    {
     "data": {
      "image/png": "[encoded data removed]",
      "text/plain": [
       "<Figure size 640x480 with 1 Axes>"
      ]
     },
     "metadata": {},
     "output_type": "display_data"
    },
    {
     "data": {
      "text/plain": [
       "<ggplot: (126994320150)>"
      ]
     },
     "execution_count": 5,
     "metadata": {},
     "output_type": "execute_result"
    }
   ],
   "source": [
    "plotnine.ggplot(data=df) + plotnine.aes(x=\"result\") + plotnine.geom_bar()"
   ]
  },
  {
   "cell_type": "code",
   "execution_count": 6,
   "metadata": {},
   "outputs": [
    {
     "data": {
      "image/png": "[encoded data removed]",
      "text/plain": [
       "<Figure size 640x480 with 1 Axes>"
      ]
     },
     "metadata": {},
     "output_type": "display_data"
    },
    {
     "data": {
      "text/plain": [
       "<ggplot: (126994326234)>"
      ]
     },
     "execution_count": 6,
     "metadata": {},
     "output_type": "execute_result"
    }
   ],
   "source": [
    "plotnine.ggplot(data=df) + plotnine.aes(x=\"completed_by_id\") + plotnine.geom_bar()"
   ]
  },
  {
   "cell_type": "code",
   "execution_count": 7,
   "metadata": {},
   "outputs": [
    {
     "data": {
      "image/png": "[encoded data removed]",
      "text/plain": [
       "<Figure size 640x480 with 1 Axes>"
      ]
     },
     "metadata": {},
     "output_type": "display_data"
    },
    {
     "data": {
      "text/plain": [
       "<ggplot: (-9223371909859037138)>"
      ]
     },
     "execution_count": 7,
     "metadata": {},
     "output_type": "execute_result"
    }
   ],
   "source": [
    "plotnine.ggplot(data=df) + plotnine.aes(x=\"lead_time\") + plotnine.geom_histogram(binwidth=1000)"
   ]
  }
 ],
 "metadata": {
  "interpreter": {
   "hash": "4d5a04498cbb10b7e418549959132dac50071c581631687b5ce2bc684ab2b89b"
  },
  "kernelspec": {
   "display_name": "Python 3.6.8 ('tensorflow2_gpu_p36')",
   "language": "python",
   "name": "python3"
  },
  "language_info": {
   "codemirror_mode": {
    "name": "ipython",
    "version": 3
   },
   "file_extension": ".py",
   "mimetype": "text/x-python",
   "name": "python",
   "nbconvert_exporter": "python",
   "pygments_lexer": "ipython3",
   "version": "3.6.8"
  },
  "orig_nbformat": 4
 },
 "nbformat": 4,
 "nbformat_minor": 2
}
